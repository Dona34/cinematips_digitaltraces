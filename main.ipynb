{
 "cells": [
  {
   "cell_type": "code",
   "execution_count": 5,
   "metadata": {},
   "outputs": [],
   "source": [
    "# github_request.py\n",
    "import requests\n",
    "\n",
    "\n",
    "class ImdbRequest:\n",
    "    _base_url = \"https://imdb-api.com/en/API/SearchMovie/k_vg4yaklt\"\n",
    "\n",
    "    @classmethod\n",
    "    def get_events(cls):\n",
    "        return requests.get(cls._base_url+\"/inception 2010\")\n"
   ]
  },
  {
   "cell_type": "code",
   "execution_count": 6,
   "metadata": {},
   "outputs": [
    {
     "name": "stdout",
     "output_type": "stream",
     "text": [
      "<Response [200]>\n"
     ]
    }
   ],
   "source": [
    "print(ImdbRequest.get_events())\n"
   ]
  },
  {
   "cell_type": "code",
   "execution_count": 7,
   "metadata": {},
   "outputs": [],
   "source": [
    "class Response:\n",
    "    def __init__(self, status_code, content) -> None:\n",
    "        self.status_code = status_code\n",
    "        self.content = content\n"
   ]
  },
  {
   "cell_type": "code",
   "execution_count": 14,
   "metadata": {},
   "outputs": [],
   "source": [
    "class ImdbRequest:\n",
    "    _base_url = \"https://imdb-api.com/en/API/SearchMovie/k_vg4yaklt\"\n",
    "\n",
    "    @classmethod\n",
    "    def get_movies(cls):\n",
    "        response = requests.get(cls._base_url+\"/inception 2010\")\n",
    "\n",
    "        return Response(status_code=response.status_code, content=response.json())\n"
   ]
  },
  {
   "cell_type": "code",
   "execution_count": 29,
   "metadata": {},
   "outputs": [
    {
     "name": "stdout",
     "output_type": "stream",
     "text": [
      "ok\n"
     ]
    },
    {
     "data": {
      "text/plain": [
       "'tt1375666'"
      ]
     },
     "execution_count": 29,
     "metadata": {},
     "output_type": "execute_result"
    }
   ],
   "source": [
    "movies = ImdbRequest.get_movies()\n",
    "\n",
    "assert isinstance(movies, Response)\n",
    "assert not isinstance(movies, requests.Response)\n",
    "print(\"ok\")\n",
    "\n",
    "movies.content['results'][0].get('id')\n",
    "#list(movies.content)[2]"
   ]
  }
 ],
 "metadata": {
  "kernelspec": {
   "display_name": "Python 3.10.4 64-bit",
   "language": "python",
   "name": "python3"
  },
  "language_info": {
   "codemirror_mode": {
    "name": "ipython",
    "version": 3
   },
   "file_extension": ".py",
   "mimetype": "text/x-python",
   "name": "python",
   "nbconvert_exporter": "python",
   "pygments_lexer": "ipython3",
   "version": "3.10.4"
  },
  "orig_nbformat": 4,
  "vscode": {
   "interpreter": {
    "hash": "3ad933181bd8a04b432d3370b9dc3b0662ad032c4dfaa4e4f1596c548f763858"
   }
  }
 },
 "nbformat": 4,
 "nbformat_minor": 2
}
