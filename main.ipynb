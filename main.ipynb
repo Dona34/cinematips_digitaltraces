{
 "cells": [
  {
   "cell_type": "code",
   "execution_count": 1,
   "metadata": {},
   "outputs": [],
   "source": [
    "import requests"
   ]
  },
  {
   "cell_type": "code",
   "execution_count": 2,
   "metadata": {},
   "outputs": [],
   "source": [
    "class Response:\n",
    "    def __init__(self, status_code, content) -> None:\n",
    "        self.status_code = status_code\n",
    "        self.content = content\n"
   ]
  },
  {
   "cell_type": "code",
   "execution_count": 3,
   "metadata": {},
   "outputs": [],
   "source": [
    "class ImdbRating:\n",
    "    _base_url = \"https://imdb-api.com/en/API/Ratings/k_vg4yaklt/\"\n",
    "\n",
    "    @classmethod\n",
    "    def get_rating(cls, id):\n",
    "        response = requests.get(cls._base_url+id)\n",
    "\n",
    "        return Response(status_code=response.status_code, content=response.json())"
   ]
  },
  {
   "cell_type": "code",
   "execution_count": 4,
   "metadata": {},
   "outputs": [],
   "source": [
    "class Movie:\n",
    "    def __init__(self, id:str, image:str) -> None :\n",
    "        rating = ImdbRating.get_rating(id).content\n",
    "\n",
    "        self.id = id\n",
    "        self.image = image\n",
    "        self.title = rating['fullTitle']\n",
    "        self.ratingRottenTomatoes = rating['rottenTomatoes']\n",
    "        self.year = rating['year']\n",
    "        self.ratingMetacritic = rating['metacritic']"
   ]
  },
  {
   "cell_type": "code",
   "execution_count": 11,
   "metadata": {},
   "outputs": [],
   "source": [
    "class ImdbRequest:\n",
    "    _base_url = \"https://imdb-api.com/en/API/SearchMovie/k_vg4yaklt/\"\n",
    "\n",
    "    @classmethod\n",
    "    def get_movies(cls, search) -> Movie:\n",
    "        response = requests.get(cls._base_url+search)\n",
    "\n",
    "        movies = Response(status_code=response.status_code,\n",
    "                          content=response.json())\n",
    "        movie = Movie(id=movies.content['results'][0].get('id'),image=movies.content['results'][0].get('image'))\n",
    "        return movie\n"
   ]
  },
  {
   "cell_type": "code",
   "execution_count": 10,
   "metadata": {},
   "outputs": [
    {
     "name": "stdout",
     "output_type": "stream",
     "text": [
      "{'id': 'tt1375666', 'resultType': 'Title', 'image': 'https://m.media-amazon.com/images/M/MV5BMjAxMzY3NjcxNF5BMl5BanBnXkFtZTcwNTI5OTM0Mw@@._V1_Ratio0.6800_AL_.jpg', 'title': 'Inception', 'description': '(2010)'}\n"
     ]
    },
    {
     "data": {
      "text/plain": [
       "'2010'"
      ]
     },
     "execution_count": 10,
     "metadata": {},
     "output_type": "execute_result"
    }
   ],
   "source": [
    "movies = ImdbRequest.get_movies(search=\"Inception 2010\")\n",
    "\n",
    "movies.year"
   ]
  },
  {
   "cell_type": "code",
   "execution_count": 8,
   "metadata": {},
   "outputs": [],
   "source": [
    "movie = Movie(id = movies.content['results'][0].get('id'), title=movies.content['results'][0].get('title'))"
   ]
  },
  {
   "cell_type": "code",
   "execution_count": 14,
   "metadata": {},
   "outputs": [],
   "source": [
    "class ImdbRating:\n",
    "    _base_url = \"https://imdb-api.com/en/API/Ratings/k_vg4yaklt/\"\n",
    "\n",
    "    @classmethod\n",
    "    def get_rating(cls, id):\n",
    "        response = requests.get(cls._base_url+id)\n",
    "\n",
    "        return Response(status_code=response.status_code, content=response.json())"
   ]
  },
  {
   "cell_type": "code",
   "execution_count": 16,
   "metadata": {},
   "outputs": [
    {
     "data": {
      "text/plain": [
       "'87'"
      ]
     },
     "execution_count": 16,
     "metadata": {},
     "output_type": "execute_result"
    }
   ],
   "source": [
    "rating = ImdbRating.get_rating(movie.id)\n",
    "\n",
    "rating.content['metacritic']\n",
    "rating.content['rottenTomatoes']\n",
    "rating.content['year']"
   ]
  }
 ],
 "metadata": {
  "kernelspec": {
   "display_name": "Python 3 (ipykernel)",
   "language": "python",
   "name": "python3"
  },
  "language_info": {
   "codemirror_mode": {
    "name": "ipython",
    "version": 3
   },
   "file_extension": ".py",
   "mimetype": "text/x-python",
   "name": "python",
   "nbconvert_exporter": "python",
   "pygments_lexer": "ipython3",
   "version": "3.10.4"
  },
  "orig_nbformat": 4,
  "vscode": {
   "interpreter": {
    "hash": "3ad933181bd8a04b432d3370b9dc3b0662ad032c4dfaa4e4f1596c548f763858"
   }
  }
 },
 "nbformat": 4,
 "nbformat_minor": 2
}
